{
 "cells": [
  {
   "cell_type": "code",
   "execution_count": null,
   "id": "d58393bb-a3eb-46dc-b550-2b9311f2916f",
   "metadata": {
    "tags": []
   },
   "outputs": [],
   "source": [
    "import pandas as pd\n",
    "import numpy as np\n",
    "import matplotlib.pyplot as plt\n",
    "from datetime import datetime\n",
    "from dateutil.relativedelta import relativedelta\n",
    "\n",
    "%matplotlib inline"
   ]
  },
  {
   "cell_type": "code",
   "execution_count": null,
   "id": "cc4206f0-223a-4998-9fc7-ae3a4ad0e4b0",
   "metadata": {
    "tags": []
   },
   "outputs": [],
   "source": [
    "NUM_MONTHS = 12 * 5\n",
    "\n",
    "# create a timeline that we will use to attach our months to\n",
    "# and importantly one for our balance\n",
    "date_today = datetime.today()\n",
    "months_timeline = [(date_today + relativedelta(months=i)).date() for i in range(NUM_MONTHS)]\n",
    "balance_timeline = [0. for i in range(NUM_MONTHS)]\n",
    "print(f\"Timeline from {months_timeline[0]} to {months_timeline[-1]}\")"
   ]
  },
  {
   "cell_type": "code",
   "execution_count": null,
   "id": "a3f25a26-5588-430d-bc26-ea808890656d",
   "metadata": {
    "tags": []
   },
   "outputs": [],
   "source": [
    "# for our timeline; the user can add items; these can 'add income' or 'subtract income'\n",
    "\n",
    "# add income; recurring, one-off or fluctuating\n",
    "# option: Salary match inflation? \n",
    "\n",
    "# add spend; fluctuating, have a central with some variation\n",
    "# add debt"
   ]
  },
  {
   "cell_type": "code",
   "execution_count": null,
   "id": "51a7cd9b-0b45-4f4e-b939-8498c1882425",
   "metadata": {},
   "outputs": [],
   "source": [
    "# end goal; make suggestions as to what you can do with your money? Earning X amount; then can do Y\n",
    "# or not earning enough; look for another job; side-hustle, reduce expenses.."
   ]
  }
 ],
 "metadata": {
  "kernelspec": {
   "display_name": "Python 3 (ipykernel)",
   "language": "python",
   "name": "python3"
  },
  "language_info": {
   "codemirror_mode": {
    "name": "ipython",
    "version": 3
   },
   "file_extension": ".py",
   "mimetype": "text/x-python",
   "name": "python",
   "nbconvert_exporter": "python",
   "pygments_lexer": "ipython3",
   "version": "3.10.7"
  }
 },
 "nbformat": 4,
 "nbformat_minor": 5
}
